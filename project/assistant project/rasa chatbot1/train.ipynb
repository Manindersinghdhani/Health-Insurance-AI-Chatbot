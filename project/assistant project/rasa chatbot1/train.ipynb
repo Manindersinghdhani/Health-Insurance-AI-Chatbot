{
 "metadata": {
  "language_info": {
   "codemirror_mode": {
    "name": "ipython",
    "version": 3
   },
   "file_extension": ".py",
   "mimetype": "text/x-python",
   "name": "python",
   "nbconvert_exporter": "python",
   "pygments_lexer": "ipython3",
   "version": "3.8.6"
  },
  "orig_nbformat": 2,
  "kernelspec": {
   "name": "python3",
   "display_name": "Python 3.8.6 64-bit",
   "metadata": {
    "interpreter": {
     "hash": "7dba87c3e84d0f432f51fee54b84a22a91479b1322f3a9f6915c02a06d842fcb"
    }
   }
  }
 },
 "nbformat": 4,
 "nbformat_minor": 2,
 "cells": [
  {
   "cell_type": "code",
   "execution_count": 1,
   "metadata": {},
   "outputs": [],
   "source": [
    "import numpy as np\n",
    "import pandas as pd\n",
    "\n",
    "import joblib\n",
    "\n",
    "from sklearn.ensemble import RandomForestClassifier"
   ]
  },
  {
   "cell_type": "code",
   "execution_count": 2,
   "metadata": {},
   "outputs": [
    {
     "output_type": "execute_result",
     "data": {
      "text/plain": [
       "    age  sex  duration  department     amount  prof  claim\n",
       "0    40    0         5           1  360670.00     0      1\n",
       "1    35    0         7           1  382670.00     0      1\n",
       "2    45    1        22           1  382670.00     0      1\n",
       "3    28    1         6           3  382670.00     0      0\n",
       "4    30    0        13           3  382670.00     0      1\n",
       "..  ...  ...       ...         ...        ...   ...    ...\n",
       "75   38    1        13           2  343436.16     1      0\n",
       "76   48    0         5           1  268713.16     1      1\n",
       "77   30    0        14           2  333550.36     1      0\n",
       "78   38    0         8           2  390735.97     1      0\n",
       "79   46    1        10           0  290423.83     1      0\n",
       "\n",
       "[80 rows x 7 columns]"
      ],
      "text/html": "<div>\n<style scoped>\n    .dataframe tbody tr th:only-of-type {\n        vertical-align: middle;\n    }\n\n    .dataframe tbody tr th {\n        vertical-align: top;\n    }\n\n    .dataframe thead th {\n        text-align: right;\n    }\n</style>\n<table border=\"1\" class=\"dataframe\">\n  <thead>\n    <tr style=\"text-align: right;\">\n      <th></th>\n      <th>age</th>\n      <th>sex</th>\n      <th>duration</th>\n      <th>department</th>\n      <th>amount</th>\n      <th>prof</th>\n      <th>claim</th>\n    </tr>\n  </thead>\n  <tbody>\n    <tr>\n      <th>0</th>\n      <td>40</td>\n      <td>0</td>\n      <td>5</td>\n      <td>1</td>\n      <td>360670.00</td>\n      <td>0</td>\n      <td>1</td>\n    </tr>\n    <tr>\n      <th>1</th>\n      <td>35</td>\n      <td>0</td>\n      <td>7</td>\n      <td>1</td>\n      <td>382670.00</td>\n      <td>0</td>\n      <td>1</td>\n    </tr>\n    <tr>\n      <th>2</th>\n      <td>45</td>\n      <td>1</td>\n      <td>22</td>\n      <td>1</td>\n      <td>382670.00</td>\n      <td>0</td>\n      <td>1</td>\n    </tr>\n    <tr>\n      <th>3</th>\n      <td>28</td>\n      <td>1</td>\n      <td>6</td>\n      <td>3</td>\n      <td>382670.00</td>\n      <td>0</td>\n      <td>0</td>\n    </tr>\n    <tr>\n      <th>4</th>\n      <td>30</td>\n      <td>0</td>\n      <td>13</td>\n      <td>3</td>\n      <td>382670.00</td>\n      <td>0</td>\n      <td>1</td>\n    </tr>\n    <tr>\n      <th>...</th>\n      <td>...</td>\n      <td>...</td>\n      <td>...</td>\n      <td>...</td>\n      <td>...</td>\n      <td>...</td>\n      <td>...</td>\n    </tr>\n    <tr>\n      <th>75</th>\n      <td>38</td>\n      <td>1</td>\n      <td>13</td>\n      <td>2</td>\n      <td>343436.16</td>\n      <td>1</td>\n      <td>0</td>\n    </tr>\n    <tr>\n      <th>76</th>\n      <td>48</td>\n      <td>0</td>\n      <td>5</td>\n      <td>1</td>\n      <td>268713.16</td>\n      <td>1</td>\n      <td>1</td>\n    </tr>\n    <tr>\n      <th>77</th>\n      <td>30</td>\n      <td>0</td>\n      <td>14</td>\n      <td>2</td>\n      <td>333550.36</td>\n      <td>1</td>\n      <td>0</td>\n    </tr>\n    <tr>\n      <th>78</th>\n      <td>38</td>\n      <td>0</td>\n      <td>8</td>\n      <td>2</td>\n      <td>390735.97</td>\n      <td>1</td>\n      <td>0</td>\n    </tr>\n    <tr>\n      <th>79</th>\n      <td>46</td>\n      <td>1</td>\n      <td>10</td>\n      <td>0</td>\n      <td>290423.83</td>\n      <td>1</td>\n      <td>0</td>\n    </tr>\n  </tbody>\n</table>\n<p>80 rows × 7 columns</p>\n</div>"
     },
     "metadata": {},
     "execution_count": 2
    }
   ],
   "source": [
    "data = pd.read_csv(\"ext_data.csv\")\n",
    "data"
   ]
  },
  {
   "cell_type": "code",
   "execution_count": 3,
   "metadata": {},
   "outputs": [
    {
     "output_type": "execute_result",
     "data": {
      "text/plain": [
       "age           0\n",
       "sex           0\n",
       "duration      0\n",
       "department    0\n",
       "amount        0\n",
       "prof          0\n",
       "claim         0\n",
       "dtype: int64"
      ]
     },
     "metadata": {},
     "execution_count": 3
    }
   ],
   "source": [
    "data.isna().sum()"
   ]
  },
  {
   "cell_type": "code",
   "execution_count": 4,
   "metadata": {},
   "outputs": [
    {
     "output_type": "execute_result",
     "data": {
      "text/plain": [
       "RandomForestClassifier()"
      ]
     },
     "metadata": {},
     "execution_count": 4
    }
   ],
   "source": [
    "clf = RandomForestClassifier()\n",
    "clf.fit(data.drop(columns=[\"claim\",\"prof\"]),data[\"claim\"])"
   ]
  },
  {
   "cell_type": "code",
   "execution_count": 5,
   "metadata": {},
   "outputs": [
    {
     "output_type": "execute_result",
     "data": {
      "text/plain": [
       "['trained_model.sav']"
      ]
     },
     "metadata": {},
     "execution_count": 5
    }
   ],
   "source": [
    "joblib.dump(clf,\"trained_model.sav\")"
   ]
  }
 ]
}